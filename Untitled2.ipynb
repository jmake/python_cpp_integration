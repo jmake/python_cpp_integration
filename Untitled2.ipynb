{
 "cells": [
  {
   "cell_type": "code",
   "execution_count": null,
   "id": "513554e7",
   "metadata": {},
   "outputs": [],
   "source": []
  },
  {
   "cell_type": "raw",
   "id": "d2fe0343-5248-4978-95ee-5590d4ce21ba",
   "metadata": {},
   "source": [
    "%%bash \n",
    "conda update -n base conda\n",
    "conda install -c anaconda cmake swig numpy "
   ]
  },
  {
   "cell_type": "code",
   "execution_count": null,
   "id": "b637c2db-691d-4afc-9bb2-35f37826ccc9",
   "metadata": {},
   "outputs": [],
   "source": []
  },
  {
   "cell_type": "code",
   "execution_count": 1,
   "id": "2c6fd81e-89dd-4497-a629-77345b61533b",
   "metadata": {},
   "outputs": [],
   "source": [
    "### Useful information "
   ]
  },
  {
   "cell_type": "code",
   "execution_count": 2,
   "id": "d766f708",
   "metadata": {
    "tags": []
   },
   "outputs": [
    {
     "name": "stdout",
     "output_type": "stream",
     "text": [
      "PWD: /home/jovyan/work\n",
      "TODAY: 2021-11-19 14:13:25.655390\n"
     ]
    }
   ],
   "source": [
    "import os \n",
    "print(\"PWD:\",os.getcwd())\n",
    "\n",
    "import datetime\n",
    "print(\"TODAY:\", datetime.datetime.now())"
   ]
  },
  {
   "cell_type": "code",
   "execution_count": 3,
   "id": "d7d1950a",
   "metadata": {},
   "outputs": [
    {
     "name": "stdout",
     "output_type": "stream",
     "text": [
      "cmake version 3.21.3\n",
      "\n",
      "CMake suite maintained and supported by Kitware (kitware.com/cmake).\n"
     ]
    }
   ],
   "source": [
    "%%bash \n",
    "cmake --version "
   ]
  },
  {
   "cell_type": "code",
   "execution_count": 4,
   "id": "f3f5a3f0-71b3-48a9-a95f-dedd9c6c08ab",
   "metadata": {},
   "outputs": [
    {
     "name": "stdout",
     "output_type": "stream",
     "text": [
      "g++ (GCC) 9.4.0\n",
      "Copyright (C) 2019 Free Software Foundation, Inc.\n",
      "This is free software; see the source for copying conditions.  There is NO\n",
      "warranty; not even for MERCHANTABILITY or FITNESS FOR A PARTICULAR PURPOSE.\n",
      "\n"
     ]
    }
   ],
   "source": [
    "%%bash \n",
    "g++ --version"
   ]
  },
  {
   "cell_type": "code",
   "execution_count": 5,
   "id": "aebafc43-a208-4c8b-8d9f-0e79741018e1",
   "metadata": {},
   "outputs": [
    {
     "name": "stdout",
     "output_type": "stream",
     "text": [
      "\n",
      "SWIG Version 4.0.2\n",
      "\n",
      "Compiled with /home/conda/feedstock_root/build_artifacts/swig_1614618251926/_build_env/bin/x86_64-conda-linux-gnu-c++ [x86_64-conda-linux-gnu]\n",
      "\n",
      "Configured options: +pcre\n",
      "\n",
      "Please see http://www.swig.org for reporting bugs and further information\n"
     ]
    }
   ],
   "source": [
    "%%bash \n",
    "swig -version"
   ]
  },
  {
   "cell_type": "code",
   "execution_count": 6,
   "id": "715e1029-ae0a-4127-9a97-3bb89f806c38",
   "metadata": {},
   "outputs": [
    {
     "name": "stdout",
     "output_type": "stream",
     "text": [
      "Python 3.9.7\n"
     ]
    }
   ],
   "source": [
    "%%bash \n",
    "python --version"
   ]
  },
  {
   "cell_type": "code",
   "execution_count": 7,
   "id": "ae9d324c-3d81-404b-ad25-64f838b0a88d",
   "metadata": {},
   "outputs": [
    {
     "data": {
      "text/plain": [
       "'/opt/conda/lib/python3.9/site-packages/numpy/core/include'"
      ]
     },
     "execution_count": 7,
     "metadata": {},
     "output_type": "execute_result"
    }
   ],
   "source": [
    "import numpy \n",
    "numpy.get_include()"
   ]
  },
  {
   "cell_type": "code",
   "execution_count": null,
   "id": "1ed0e912-0cc7-441b-9b98-18ee3468130b",
   "metadata": {},
   "outputs": [],
   "source": []
  },
  {
   "cell_type": "code",
   "execution_count": 8,
   "id": "0b458271-c7f0-45eb-bbf9-8cb54e04f458",
   "metadata": {},
   "outputs": [],
   "source": [
    "### Test case "
   ]
  },
  {
   "cell_type": "code",
   "execution_count": 9,
   "id": "8ff17bcb-11ab-46f4-abdb-9326e936c90d",
   "metadata": {},
   "outputs": [
    {
     "name": "stdout",
     "output_type": "stream",
     "text": [
      "Overwriting simpleExample.hpp\n"
     ]
    }
   ],
   "source": [
    "%%writefile simpleExample.hpp \n",
    "\n",
    "void say_hello();\n",
    "\n",
    "class SimpleExample \n",
    "{\n",
    "  public:\n",
    "    SimpleExample(){};\n",
    "   ~SimpleExample(){};\n",
    "        \n",
    "    void ShowArray(double* array, int narray); \n",
    "    void ShowArray(int* array, int narray); \n",
    "    \n",
    "  private:\n",
    "    template<class T>\n",
    "    void ShowArray(T* array, int narray);     \n",
    "};"
   ]
  },
  {
   "cell_type": "code",
   "execution_count": 10,
   "id": "9dbe3866-e599-4e0a-8cd5-0f1d50908cd4",
   "metadata": {},
   "outputs": [
    {
     "name": "stdout",
     "output_type": "stream",
     "text": [
      "Overwriting simpleExample.cpp\n"
     ]
    }
   ],
   "source": [
    "%%writefile simpleExample.cpp\n",
    "#include <iostream>\n",
    "#include \"simpleExample.hpp\"\n",
    "\n",
    "void say_hello()\n",
    "{\n",
    "    std::cout<<\"Hello from swig-example:\" << std::endl;\n",
    "}\n",
    "\n",
    "void \n",
    "SimpleExample::ShowArray(double* array, int narray)\n",
    "{\n",
    "    this->ShowArray<double>(array, narray);     \n",
    "}\n",
    "\n",
    "\n",
    "void \n",
    "SimpleExample::ShowArray(int* array, int narray)\n",
    "{\n",
    "    this->ShowArray<int>(array, narray); \n",
    "}\n",
    "\n",
    "\n",
    "template<class T>\n",
    "void \n",
    "SimpleExample::ShowArray(T* array, int narray)\n",
    "{\n",
    "    std::cout<<\" [ \"; \n",
    "    for(int i=0; i<narray; i++)\n",
    "    {\n",
    "        std::cout<< array[i] <<\" \"; \n",
    "    }\n",
    "    std::cout<<\"] \"<< std::endl; \n",
    "}"
   ]
  },
  {
   "cell_type": "code",
   "execution_count": null,
   "id": "83b72460-49d8-4ac9-8071-d4240226d774",
   "metadata": {},
   "outputs": [],
   "source": []
  },
  {
   "cell_type": "code",
   "execution_count": 11,
   "id": "9b6c7afa-faa3-4928-8a49-4cc42e95a508",
   "metadata": {},
   "outputs": [],
   "source": [
    "### 2.a) Configuring *swig* "
   ]
  },
  {
   "cell_type": "code",
   "execution_count": 12,
   "id": "ce9de944-29aa-4428-899c-448962d458a5",
   "metadata": {},
   "outputs": [
    {
     "name": "stdout",
     "output_type": "stream",
     "text": [
      "Overwriting swigConfigurationFile.i\n"
     ]
    }
   ],
   "source": [
    "%%writefile swigConfigurationFile.i  \n",
    "## \n",
    "%module swig_example\n",
    "\n",
    "%{\n",
    "    #define SWIG_FILE_WITH_INIT\n",
    "    #include \"simpleExample.hpp\"\n",
    "%}\n",
    "\n",
    "## ShowArray(int* array, int narray)\n",
    "%include \"carrays.i\"\n",
    "%array_class(int, iArray)\n",
    "\n",
    "## \n",
    "%include \"numpy.i\"\n",
    "%init \n",
    "%{\n",
    "    import_array();\n",
    "%}\n",
    "\n",
    "## ShowArray(double* array, int narray)\n",
    "%apply (double* IN_ARRAY1, int DIM1) {(double* array, int narray)}\n",
    "\n",
    "%include \"simpleExample.hpp\""
   ]
  },
  {
   "cell_type": "code",
   "execution_count": 13,
   "id": "5dae712f-02e6-475d-b1c0-12169dc1257d",
   "metadata": {},
   "outputs": [],
   "source": [
    "### If *numpy.i* is missing, activate this cell "
   ]
  },
  {
   "cell_type": "code",
   "execution_count": 14,
   "id": "9a64936b-4734-4a25-9650-74593b94529b",
   "metadata": {},
   "outputs": [],
   "source": [
    "import re\n",
    "import requests\n",
    "import numpy\n",
    "\n",
    "np_version = re.compile(r'(?P<MAJOR>[0-9]+)\\.'\n",
    "                        '(?P<MINOR>[0-9]+)') \\\n",
    "                        .search(numpy.__version__)\n",
    "np_version_string = np_version.group()\n",
    "np_version_info = {key: int(value)\n",
    "                   for key, value in np_version.groupdict().items()}\n",
    "\n",
    "np_file_name = 'numpy.i'\n",
    "np_file_url = 'https://raw.githubusercontent.com/numpy/numpy/maintenance/' + \\\n",
    "              np_version_string + '.x/tools/swig/' + np_file_name\n",
    "if(np_version_info['MAJOR'] == 1 and np_version_info['MINOR'] < 9):\n",
    "    np_file_url = np_file_url.replace('tools', 'doc')\n",
    "\n",
    "chunk_size = 8196\n",
    "with open(np_file_name, 'wb') as file:\n",
    "    for chunk in requests.get(np_file_url,\n",
    "                              stream=True).iter_content(chunk_size):\n",
    "        file.write(chunk)"
   ]
  },
  {
   "cell_type": "code",
   "execution_count": null,
   "id": "97c1aa50-b4a9-4188-bed6-3fa811c660c3",
   "metadata": {},
   "outputs": [],
   "source": []
  },
  {
   "cell_type": "code",
   "execution_count": 15,
   "id": "4407c165-91ab-4ca6-ba93-301b827e1bc8",
   "metadata": {},
   "outputs": [],
   "source": [
    "### 2.b) Configuring *CMake* "
   ]
  },
  {
   "cell_type": "code",
   "execution_count": 16,
   "id": "1d900da0-7534-4648-89c1-db6828a15450",
   "metadata": {},
   "outputs": [
    {
     "name": "stdout",
     "output_type": "stream",
     "text": [
      "Overwriting CMakeListsFromPynb.txt\n"
     ]
    }
   ],
   "source": [
    "%%writefile CMakeListsFromPynb.txt \n",
    "## \n",
    "cmake_minimum_required(VERSION 3.19.3)\n",
    "project(text CXX)\n",
    "set(CMAKE_CXX_STANDARD 11)\n",
    "set(CMAKE_CXX_STANDARD_REQUERIRED ON)\n",
    "\n",
    "## \n",
    "include_directories(./)\n",
    "add_library(LibraryName SHARED simpleExample.cpp)\n",
    "\n",
    "#add_executable(tobetested y.cxx)\n",
    "#target_link_libraries(tobetested fileName)\n",
    "\n",
    "#include_directories(/Users/poderozita/anaconda3/envs/jmake2021/lib/python3.7/site-packages/numpy/core/include)\n",
    "\n",
    "## Wrapper.Python\n",
    "find_package(Python3 COMPONENTS Interpreter Development REQUIRED)\n",
    "include_directories(${Python3_INCLUDE_DIRS})\n",
    "\n",
    "## Wrapper.Python\n",
    "find_package(SWIG REQUIRED)\n",
    "include(${SWIG_USE_FILE})\n",
    "#include (UseSWIG)\n",
    "\n",
    "set_property(SOURCE swigConfigurationFile.i PROPERTY CPLUSPLUS ON)\n",
    "swig_add_library(SWIG_fileName LANGUAGE python SOURCES swigConfigurationFile.i)\n",
    "swig_link_libraries(SWIG_fileName LibraryName ${Python3_LIBRARIES})"
   ]
  },
  {
   "cell_type": "code",
   "execution_count": null,
   "id": "f629fa4e-58f9-4a18-854d-96674cc52668",
   "metadata": {},
   "outputs": [],
   "source": []
  },
  {
   "cell_type": "code",
   "execution_count": 17,
   "id": "0598825e-efc0-40f3-a071-fb64039c9977",
   "metadata": {},
   "outputs": [],
   "source": [
    "### Compiling"
   ]
  },
  {
   "cell_type": "code",
   "execution_count": 18,
   "id": "5527816e-e823-45af-9ba4-7401da5dcf29",
   "metadata": {},
   "outputs": [
    {
     "name": "stdout",
     "output_type": "stream",
     "text": [
      "Overwriting RUNNER.py\n"
     ]
    }
   ],
   "source": [
    "%%writefile RUNNER.py   \n",
    "import os \n",
    "import numpy \n",
    "#print( numpy.get_include() ) \n",
    "\n",
    "os.environ['NP_INCLUDE_PATH'] = numpy.get_include()\n",
    "\n",
    "os.system(\"rm -rf CMakeCache.txt CMakeLists.txt CMakeFiles cmake_install.cmake Make libLibraryName.*\")  \n",
    "os.system(\"cp CMakeListsFromPynb.txt CMakeLists.txt\") \n",
    "os.system(\"cmake . -DCMAKE_CXX_COMPILER=g++ -DCMAKE_CXX_FLAGS=-I$NP_INCLUDE_PATH\")  \n",
    "os.system(\"make -B\")  "
   ]
  },
  {
   "cell_type": "code",
   "execution_count": 19,
   "id": "75ba0dbd-13b8-4949-a5a0-cd3ec99bc331",
   "metadata": {},
   "outputs": [
    {
     "name": "stdout",
     "output_type": "stream",
     "text": [
      "-- The CXX compiler identification is GNU 9.4.0\n",
      "-- Detecting CXX compiler ABI info\n",
      "-- Detecting CXX compiler ABI info - done\n",
      "-- Check for working CXX compiler: /opt/conda/bin/g++ - skipped\n",
      "-- Detecting CXX compile features\n",
      "-- Detecting CXX compile features - done\n",
      "-- Found Python3: /opt/conda/bin/python3.9 (found version \"3.9.7\") found components: Interpreter Development Development.Module Development.Embed \n",
      "-- Found SWIG: /opt/conda/bin/swig (found version \"4.0.2\")  \n",
      "-- Configuring done\n",
      "-- Generating done\n",
      "-- Build files have been written to: /home/jovyan/work\n",
      "[ 20%] Building CXX object CMakeFiles/LibraryName.dir/simpleExample.cpp.o\n",
      "[ 40%] Linking CXX shared library libLibraryName.so\n",
      "[ 40%] Built target LibraryName\n",
      "Scanning dependencies of target SWIG_fileName_swig_compilation\n",
      "[ 60%] Swig compile swigConfigurationFile.i for python\n",
      "[ 60%] Built target SWIG_fileName_swig_compilation\n",
      "[ 80%] Building CXX object CMakeFiles/SWIG_fileName.dir/CMakeFiles/SWIG_fileName.dir/swigConfigurationFilePYTHON_wrap.cxx.o\n",
      "[100%] Linking CXX shared module _SWIG_fileName.so\n",
      "[100%] Built target SWIG_fileName\n"
     ]
    }
   ],
   "source": [
    "%%bash \n",
    "python RUNNER.py"
   ]
  },
  {
   "cell_type": "code",
   "execution_count": null,
   "id": "bf3b84b1-a142-4de3-a175-ebf2eca8204e",
   "metadata": {},
   "outputs": [],
   "source": []
  },
  {
   "cell_type": "code",
   "execution_count": 20,
   "id": "739d96c9-943e-438f-a7f4-78cb7cf8f9d8",
   "metadata": {},
   "outputs": [],
   "source": [
    "### Testing "
   ]
  },
  {
   "cell_type": "code",
   "execution_count": 21,
   "id": "0d542eaa-e13a-4e41-a21e-69b40ff4d08d",
   "metadata": {},
   "outputs": [
    {
     "name": "stdout",
     "output_type": "stream",
     "text": [
      "Hello from swig-example:\n",
      " [ 1 2 3 4 ] \n",
      " [ 1 2 3 4 ] \n"
     ]
    }
   ],
   "source": [
    "#%%writefile test.py\n",
    "import numpy as np\n",
    "import swig_example\n",
    "\n",
    "swig_example.say_hello()\n",
    "E = swig_example.SimpleExample()\n",
    "\n",
    "narray = 4\n",
    "array1 = np.arange(narray) + 1\n",
    "E.ShowArray(array1)\n",
    "\n",
    "array2 = swig_example.iArray(narray)\n",
    "for i in range(narray): array2[i] = i+1 \n",
    "E.ShowArray(array2,narray)"
   ]
  },
  {
   "cell_type": "code",
   "execution_count": null,
   "id": "68c1b595-c21f-41ad-8001-b80b07a97382",
   "metadata": {},
   "outputs": [],
   "source": []
  }
 ],
 "metadata": {
  "kernelspec": {
   "display_name": "Python 3 (ipykernel)",
   "language": "python",
   "name": "python3"
  },
  "language_info": {
   "codemirror_mode": {
    "name": "ipython",
    "version": 3
   },
   "file_extension": ".py",
   "mimetype": "text/x-python",
   "name": "python",
   "nbconvert_exporter": "python",
   "pygments_lexer": "ipython3",
   "version": "3.9.7"
  }
 },
 "nbformat": 4,
 "nbformat_minor": 5
}
