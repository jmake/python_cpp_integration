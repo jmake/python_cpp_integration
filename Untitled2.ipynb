{
 "cells": [
  {
   "cell_type": "code",
   "execution_count": null,
   "id": "513554e7",
   "metadata": {},
   "outputs": [],
   "source": []
  },
  {
   "cell_type": "raw",
   "id": "d2fe0343-5248-4978-95ee-5590d4ce21ba",
   "metadata": {},
   "source": [
    "%%bash \n",
    "conda update -n base conda\n",
    "conda install -c anaconda cmake swig numpy "
   ]
  },
  {
   "cell_type": "code",
   "execution_count": null,
   "id": "b637c2db-691d-4afc-9bb2-35f37826ccc9",
   "metadata": {},
   "outputs": [],
   "source": []
  },
  {
   "cell_type": "markdown",
   "id": "20ef8b9b-ea7b-46af-8f68-aa578171a52b",
   "metadata": {
    "execution": {
     "iopub.execute_input": "2021-11-19T14:55:20.759792Z",
     "iopub.status.busy": "2021-11-19T14:55:20.759066Z",
     "iopub.status.idle": "2021-11-19T14:55:20.762282Z",
     "shell.execute_reply": "2021-11-19T14:55:20.762823Z"
    }
   },
   "source": [
    "### Useful information "
   ]
  },
  {
   "cell_type": "code",
   "execution_count": 1,
   "id": "d766f708",
   "metadata": {
    "tags": []
   },
   "outputs": [
    {
     "name": "stdout",
     "output_type": "stream",
     "text": [
      "PWD: /home/jovyan/work\n",
      "TODAY: 2021-11-19 15:04:08.577476\n"
     ]
    }
   ],
   "source": [
    "import os \n",
    "print(\"PWD:\",os.getcwd())\n",
    "\n",
    "import datetime\n",
    "print(\"TODAY:\", datetime.datetime.now())"
   ]
  },
  {
   "cell_type": "code",
   "execution_count": 2,
   "id": "d7d1950a",
   "metadata": {},
   "outputs": [
    {
     "name": "stdout",
     "output_type": "stream",
     "text": [
      "cmake version 3.21.3\n",
      "\n",
      "CMake suite maintained and supported by Kitware (kitware.com/cmake).\n"
     ]
    }
   ],
   "source": [
    "%%bash \n",
    "cmake --version "
   ]
  },
  {
   "cell_type": "code",
   "execution_count": 3,
   "id": "f3f5a3f0-71b3-48a9-a95f-dedd9c6c08ab",
   "metadata": {},
   "outputs": [
    {
     "name": "stdout",
     "output_type": "stream",
     "text": [
      "g++ (GCC) 9.4.0\n",
      "Copyright (C) 2019 Free Software Foundation, Inc.\n",
      "This is free software; see the source for copying conditions.  There is NO\n",
      "warranty; not even for MERCHANTABILITY or FITNESS FOR A PARTICULAR PURPOSE.\n",
      "\n"
     ]
    }
   ],
   "source": [
    "%%bash \n",
    "g++ --version"
   ]
  },
  {
   "cell_type": "code",
   "execution_count": 4,
   "id": "aebafc43-a208-4c8b-8d9f-0e79741018e1",
   "metadata": {},
   "outputs": [
    {
     "name": "stdout",
     "output_type": "stream",
     "text": [
      "\n",
      "SWIG Version 4.0.2\n",
      "\n",
      "Compiled with /home/conda/feedstock_root/build_artifacts/swig_1614618251926/_build_env/bin/x86_64-conda-linux-gnu-c++ [x86_64-conda-linux-gnu]\n",
      "\n",
      "Configured options: +pcre\n",
      "\n",
      "Please see http://www.swig.org for reporting bugs and further information\n"
     ]
    }
   ],
   "source": [
    "%%bash \n",
    "swig -version"
   ]
  },
  {
   "cell_type": "code",
   "execution_count": 5,
   "id": "715e1029-ae0a-4127-9a97-3bb89f806c38",
   "metadata": {},
   "outputs": [
    {
     "name": "stdout",
     "output_type": "stream",
     "text": [
      "Python 3.9.7\n"
     ]
    }
   ],
   "source": [
    "%%bash \n",
    "python --version"
   ]
  },
  {
   "cell_type": "code",
   "execution_count": 6,
   "id": "ae9d324c-3d81-404b-ad25-64f838b0a88d",
   "metadata": {},
   "outputs": [
    {
     "data": {
      "text/plain": [
       "'/opt/conda/lib/python3.9/site-packages/numpy/core/include'"
      ]
     },
     "execution_count": 6,
     "metadata": {},
     "output_type": "execute_result"
    }
   ],
   "source": [
    "import numpy \n",
    "numpy.get_include()"
   ]
  },
  {
   "cell_type": "code",
   "execution_count": null,
   "id": "1ed0e912-0cc7-441b-9b98-18ee3468130b",
   "metadata": {},
   "outputs": [],
   "source": []
  },
  {
   "cell_type": "markdown",
   "id": "d9f67e2b-3a7c-4b46-b19b-03dc07f91e81",
   "metadata": {
    "execution": {
     "iopub.execute_input": "2021-11-19T14:55:21.217673Z",
     "iopub.status.busy": "2021-11-19T14:55:21.216868Z",
     "iopub.status.idle": "2021-11-19T14:55:21.220419Z",
     "shell.execute_reply": "2021-11-19T14:55:21.219770Z"
    }
   },
   "source": [
    "### Test case "
   ]
  },
  {
   "cell_type": "code",
   "execution_count": 8,
   "id": "8ff17bcb-11ab-46f4-abdb-9326e936c90d",
   "metadata": {},
   "outputs": [
    {
     "name": "stdout",
     "output_type": "stream",
     "text": [
      "Overwriting simpleExample.hpp\n"
     ]
    },
    {
     "ename": "PermissionError",
     "evalue": "[Errno 13] Permission denied: 'simpleExample.hpp'",
     "output_type": "error",
     "traceback": [
      "\u001b[0;31m---------------------------------------------------------------------------\u001b[0m",
      "\u001b[0;31mPermissionError\u001b[0m                           Traceback (most recent call last)",
      "\u001b[0;32m/tmp/ipykernel_91/3205609879.py\u001b[0m in \u001b[0;36m<module>\u001b[0;34m\u001b[0m\n\u001b[0;32m----> 1\u001b[0;31m \u001b[0mget_ipython\u001b[0m\u001b[0;34m(\u001b[0m\u001b[0;34m)\u001b[0m\u001b[0;34m.\u001b[0m\u001b[0mrun_cell_magic\u001b[0m\u001b[0;34m(\u001b[0m\u001b[0;34m'writefile'\u001b[0m\u001b[0;34m,\u001b[0m \u001b[0;34m'simpleExample.hpp'\u001b[0m\u001b[0;34m,\u001b[0m \u001b[0;34m'\\nvoid say_hello();\\n\\nclass SimpleExample \\n{\\n  public:\\n    SimpleExample(){};\\n   ~SimpleExample(){};\\n        \\n    void ShowArray(double* array, int narray); \\n    void ShowArray(int* array, int narray); \\n    \\n  private:\\n    template<class T>\\n    void ShowArray(T* array, int narray);     \\n};\\n'\u001b[0m\u001b[0;34m)\u001b[0m\u001b[0;34m\u001b[0m\u001b[0;34m\u001b[0m\u001b[0m\n\u001b[0m",
      "\u001b[0;32m/opt/conda/lib/python3.9/site-packages/IPython/core/interactiveshell.py\u001b[0m in \u001b[0;36mrun_cell_magic\u001b[0;34m(self, magic_name, line, cell)\u001b[0m\n\u001b[1;32m   2404\u001b[0m             \u001b[0;32mwith\u001b[0m \u001b[0mself\u001b[0m\u001b[0;34m.\u001b[0m\u001b[0mbuiltin_trap\u001b[0m\u001b[0;34m:\u001b[0m\u001b[0;34m\u001b[0m\u001b[0;34m\u001b[0m\u001b[0m\n\u001b[1;32m   2405\u001b[0m                 \u001b[0margs\u001b[0m \u001b[0;34m=\u001b[0m \u001b[0;34m(\u001b[0m\u001b[0mmagic_arg_s\u001b[0m\u001b[0;34m,\u001b[0m \u001b[0mcell\u001b[0m\u001b[0;34m)\u001b[0m\u001b[0;34m\u001b[0m\u001b[0;34m\u001b[0m\u001b[0m\n\u001b[0;32m-> 2406\u001b[0;31m                 \u001b[0mresult\u001b[0m \u001b[0;34m=\u001b[0m \u001b[0mfn\u001b[0m\u001b[0;34m(\u001b[0m\u001b[0;34m*\u001b[0m\u001b[0margs\u001b[0m\u001b[0;34m,\u001b[0m \u001b[0;34m**\u001b[0m\u001b[0mkwargs\u001b[0m\u001b[0;34m)\u001b[0m\u001b[0;34m\u001b[0m\u001b[0;34m\u001b[0m\u001b[0m\n\u001b[0m\u001b[1;32m   2407\u001b[0m             \u001b[0;32mreturn\u001b[0m \u001b[0mresult\u001b[0m\u001b[0;34m\u001b[0m\u001b[0;34m\u001b[0m\u001b[0m\n\u001b[1;32m   2408\u001b[0m \u001b[0;34m\u001b[0m\u001b[0m\n",
      "\u001b[0;32m/opt/conda/lib/python3.9/site-packages/decorator.py\u001b[0m in \u001b[0;36mfun\u001b[0;34m(*args, **kw)\u001b[0m\n\u001b[1;32m    230\u001b[0m             \u001b[0;32mif\u001b[0m \u001b[0;32mnot\u001b[0m \u001b[0mkwsyntax\u001b[0m\u001b[0;34m:\u001b[0m\u001b[0;34m\u001b[0m\u001b[0;34m\u001b[0m\u001b[0m\n\u001b[1;32m    231\u001b[0m                 \u001b[0margs\u001b[0m\u001b[0;34m,\u001b[0m \u001b[0mkw\u001b[0m \u001b[0;34m=\u001b[0m \u001b[0mfix\u001b[0m\u001b[0;34m(\u001b[0m\u001b[0margs\u001b[0m\u001b[0;34m,\u001b[0m \u001b[0mkw\u001b[0m\u001b[0;34m,\u001b[0m \u001b[0msig\u001b[0m\u001b[0;34m)\u001b[0m\u001b[0;34m\u001b[0m\u001b[0;34m\u001b[0m\u001b[0m\n\u001b[0;32m--> 232\u001b[0;31m             \u001b[0;32mreturn\u001b[0m \u001b[0mcaller\u001b[0m\u001b[0;34m(\u001b[0m\u001b[0mfunc\u001b[0m\u001b[0;34m,\u001b[0m \u001b[0;34m*\u001b[0m\u001b[0;34m(\u001b[0m\u001b[0mextras\u001b[0m \u001b[0;34m+\u001b[0m \u001b[0margs\u001b[0m\u001b[0;34m)\u001b[0m\u001b[0;34m,\u001b[0m \u001b[0;34m**\u001b[0m\u001b[0mkw\u001b[0m\u001b[0;34m)\u001b[0m\u001b[0;34m\u001b[0m\u001b[0;34m\u001b[0m\u001b[0m\n\u001b[0m\u001b[1;32m    233\u001b[0m     \u001b[0mfun\u001b[0m\u001b[0;34m.\u001b[0m\u001b[0m__name__\u001b[0m \u001b[0;34m=\u001b[0m \u001b[0mfunc\u001b[0m\u001b[0;34m.\u001b[0m\u001b[0m__name__\u001b[0m\u001b[0;34m\u001b[0m\u001b[0;34m\u001b[0m\u001b[0m\n\u001b[1;32m    234\u001b[0m     \u001b[0mfun\u001b[0m\u001b[0;34m.\u001b[0m\u001b[0m__doc__\u001b[0m \u001b[0;34m=\u001b[0m \u001b[0mfunc\u001b[0m\u001b[0;34m.\u001b[0m\u001b[0m__doc__\u001b[0m\u001b[0;34m\u001b[0m\u001b[0;34m\u001b[0m\u001b[0m\n",
      "\u001b[0;32m/opt/conda/lib/python3.9/site-packages/IPython/core/magic.py\u001b[0m in \u001b[0;36m<lambda>\u001b[0;34m(f, *a, **k)\u001b[0m\n\u001b[1;32m    185\u001b[0m     \u001b[0;31m# but it's overkill for just that one bit of state.\u001b[0m\u001b[0;34m\u001b[0m\u001b[0;34m\u001b[0m\u001b[0m\n\u001b[1;32m    186\u001b[0m     \u001b[0;32mdef\u001b[0m \u001b[0mmagic_deco\u001b[0m\u001b[0;34m(\u001b[0m\u001b[0marg\u001b[0m\u001b[0;34m)\u001b[0m\u001b[0;34m:\u001b[0m\u001b[0;34m\u001b[0m\u001b[0;34m\u001b[0m\u001b[0m\n\u001b[0;32m--> 187\u001b[0;31m         \u001b[0mcall\u001b[0m \u001b[0;34m=\u001b[0m \u001b[0;32mlambda\u001b[0m \u001b[0mf\u001b[0m\u001b[0;34m,\u001b[0m \u001b[0;34m*\u001b[0m\u001b[0ma\u001b[0m\u001b[0;34m,\u001b[0m \u001b[0;34m**\u001b[0m\u001b[0mk\u001b[0m\u001b[0;34m:\u001b[0m \u001b[0mf\u001b[0m\u001b[0;34m(\u001b[0m\u001b[0;34m*\u001b[0m\u001b[0ma\u001b[0m\u001b[0;34m,\u001b[0m \u001b[0;34m**\u001b[0m\u001b[0mk\u001b[0m\u001b[0;34m)\u001b[0m\u001b[0;34m\u001b[0m\u001b[0;34m\u001b[0m\u001b[0m\n\u001b[0m\u001b[1;32m    188\u001b[0m \u001b[0;34m\u001b[0m\u001b[0m\n\u001b[1;32m    189\u001b[0m         \u001b[0;32mif\u001b[0m \u001b[0mcallable\u001b[0m\u001b[0;34m(\u001b[0m\u001b[0marg\u001b[0m\u001b[0;34m)\u001b[0m\u001b[0;34m:\u001b[0m\u001b[0;34m\u001b[0m\u001b[0;34m\u001b[0m\u001b[0m\n",
      "\u001b[0;32m/opt/conda/lib/python3.9/site-packages/IPython/core/magics/osm.py\u001b[0m in \u001b[0;36mwritefile\u001b[0;34m(self, line, cell)\u001b[0m\n\u001b[1;32m    854\u001b[0m \u001b[0;34m\u001b[0m\u001b[0m\n\u001b[1;32m    855\u001b[0m         \u001b[0mmode\u001b[0m \u001b[0;34m=\u001b[0m \u001b[0;34m'a'\u001b[0m \u001b[0;32mif\u001b[0m \u001b[0margs\u001b[0m\u001b[0;34m.\u001b[0m\u001b[0mappend\u001b[0m \u001b[0;32melse\u001b[0m \u001b[0;34m'w'\u001b[0m\u001b[0;34m\u001b[0m\u001b[0;34m\u001b[0m\u001b[0m\n\u001b[0;32m--> 856\u001b[0;31m         \u001b[0;32mwith\u001b[0m \u001b[0mio\u001b[0m\u001b[0;34m.\u001b[0m\u001b[0mopen\u001b[0m\u001b[0;34m(\u001b[0m\u001b[0mfilename\u001b[0m\u001b[0;34m,\u001b[0m \u001b[0mmode\u001b[0m\u001b[0;34m,\u001b[0m \u001b[0mencoding\u001b[0m\u001b[0;34m=\u001b[0m\u001b[0;34m'utf-8'\u001b[0m\u001b[0;34m)\u001b[0m \u001b[0;32mas\u001b[0m \u001b[0mf\u001b[0m\u001b[0;34m:\u001b[0m\u001b[0;34m\u001b[0m\u001b[0;34m\u001b[0m\u001b[0m\n\u001b[0m\u001b[1;32m    857\u001b[0m             \u001b[0mf\u001b[0m\u001b[0;34m.\u001b[0m\u001b[0mwrite\u001b[0m\u001b[0;34m(\u001b[0m\u001b[0mcell\u001b[0m\u001b[0;34m)\u001b[0m\u001b[0;34m\u001b[0m\u001b[0;34m\u001b[0m\u001b[0m\n",
      "\u001b[0;31mPermissionError\u001b[0m: [Errno 13] Permission denied: 'simpleExample.hpp'"
     ]
    }
   ],
   "source": [
    "%%writefile simpleExample.hpp \n",
    "\n",
    "void say_hello();\n",
    "\n",
    "class SimpleExample \n",
    "{\n",
    "  public:\n",
    "    SimpleExample(){};\n",
    "   ~SimpleExample(){};\n",
    "        \n",
    "    void ShowArray(double* array, int narray); \n",
    "    void ShowArray(int* array, int narray); \n",
    "    \n",
    "  private:\n",
    "    template<class T>\n",
    "    void ShowArray(T* array, int narray);     \n",
    "};"
   ]
  },
  {
   "cell_type": "code",
   "execution_count": null,
   "id": "9dbe3866-e599-4e0a-8cd5-0f1d50908cd4",
   "metadata": {},
   "outputs": [],
   "source": [
    "%%writefile simpleExample.cpp\n",
    "#include <iostream>\n",
    "#include \"simpleExample.hpp\"\n",
    "\n",
    "void say_hello()\n",
    "{\n",
    "    std::cout<<\"Hello from swig-example:\" << std::endl;\n",
    "}\n",
    "\n",
    "void \n",
    "SimpleExample::ShowArray(double* array, int narray)\n",
    "{\n",
    "    this->ShowArray<double>(array, narray);     \n",
    "}\n",
    "\n",
    "\n",
    "void \n",
    "SimpleExample::ShowArray(int* array, int narray)\n",
    "{\n",
    "    this->ShowArray<int>(array, narray); \n",
    "}\n",
    "\n",
    "\n",
    "template<class T>\n",
    "void \n",
    "SimpleExample::ShowArray(T* array, int narray)\n",
    "{\n",
    "    std::cout<<\" [ \"; \n",
    "    for(int i=0; i<narray; i++)\n",
    "    {\n",
    "        std::cout<< array[i] <<\" \"; \n",
    "    }\n",
    "    std::cout<<\"] \"<< std::endl; \n",
    "}"
   ]
  },
  {
   "cell_type": "code",
   "execution_count": null,
   "id": "83b72460-49d8-4ac9-8071-d4240226d774",
   "metadata": {},
   "outputs": [],
   "source": []
  },
  {
   "cell_type": "code",
   "execution_count": null,
   "id": "4dfccf9f-3f1e-441a-b65f-1176542260ae",
   "metadata": {},
   "outputs": [],
   "source": [
    "%%writefile test.py\n",
    "import numpy as np\n",
    "import swig_example\n",
    "\n",
    "swig_example.say_hello()\n",
    "E = swig_example.SimpleExample()\n",
    "\n",
    "narray = 4\n",
    "array1 = np.arange(narray) + 1\n",
    "E.ShowArray(array1)\n",
    "\n",
    "array2 = swig_example.iArray(narray)\n",
    "for i in range(narray): array2[i] = i+1 \n",
    "E.ShowArray(array2,narray)"
   ]
  },
  {
   "cell_type": "code",
   "execution_count": null,
   "id": "5fe00735-f22c-40e3-a64b-a665ffd4e52f",
   "metadata": {},
   "outputs": [],
   "source": []
  },
  {
   "cell_type": "markdown",
   "id": "6eac55bd-47f9-44e0-b303-80c9a510c699",
   "metadata": {
    "execution": {
     "iopub.execute_input": "2021-11-19T14:55:21.248656Z",
     "iopub.status.busy": "2021-11-19T14:55:21.248025Z",
     "iopub.status.idle": "2021-11-19T14:55:21.250528Z",
     "shell.execute_reply": "2021-11-19T14:55:21.251137Z"
    }
   },
   "source": [
    "### 2.a) Configuring *swig* "
   ]
  },
  {
   "cell_type": "code",
   "execution_count": null,
   "id": "ce9de944-29aa-4428-899c-448962d458a5",
   "metadata": {},
   "outputs": [],
   "source": [
    "%%writefile swigConfigurationFile.i  \n",
    "## \n",
    "%module swig_example\n",
    "\n",
    "%{\n",
    "    #define SWIG_FILE_WITH_INIT\n",
    "    #include \"simpleExample.hpp\"\n",
    "%}\n",
    "\n",
    "## ShowArray(int* array, int narray)\n",
    "%include \"carrays.i\"\n",
    "%array_class(int, iArray)\n",
    "\n",
    "## \n",
    "%include \"numpy.i\"\n",
    "%init \n",
    "%{\n",
    "    import_array();\n",
    "%}\n",
    "\n",
    "## ShowArray(double* array, int narray)\n",
    "%apply (double* IN_ARRAY1, int DIM1) {(double* array, int narray)}\n",
    "\n",
    "%include \"simpleExample.hpp\""
   ]
  },
  {
   "cell_type": "markdown",
   "id": "26b6eabd-de38-4d5c-8382-24fa0fa5e91e",
   "metadata": {
    "execution": {
     "iopub.execute_input": "2021-11-19T14:55:21.266025Z",
     "iopub.status.busy": "2021-11-19T14:55:21.265135Z",
     "iopub.status.idle": "2021-11-19T14:55:21.268657Z",
     "shell.execute_reply": "2021-11-19T14:55:21.269362Z"
    }
   },
   "source": [
    "### If *numpy.i* is missing, activate this cell "
   ]
  },
  {
   "cell_type": "code",
   "execution_count": null,
   "id": "9a64936b-4734-4a25-9650-74593b94529b",
   "metadata": {},
   "outputs": [],
   "source": [
    "import re\n",
    "import requests\n",
    "import numpy\n",
    "\n",
    "np_version = re.compile(r'(?P<MAJOR>[0-9]+)\\.'\n",
    "                        '(?P<MINOR>[0-9]+)') \\\n",
    "                        .search(numpy.__version__)\n",
    "np_version_string = np_version.group()\n",
    "np_version_info = {key: int(value)\n",
    "                   for key, value in np_version.groupdict().items()}\n",
    "\n",
    "np_file_name = 'numpy.i'\n",
    "np_file_url = 'https://raw.githubusercontent.com/numpy/numpy/maintenance/' + \\\n",
    "              np_version_string + '.x/tools/swig/' + np_file_name\n",
    "if(np_version_info['MAJOR'] == 1 and np_version_info['MINOR'] < 9):\n",
    "    np_file_url = np_file_url.replace('tools', 'doc')\n",
    "\n",
    "chunk_size = 8196\n",
    "with open(np_file_name, 'wb') as file:\n",
    "    for chunk in requests.get(np_file_url,\n",
    "                              stream=True).iter_content(chunk_size):\n",
    "        file.write(chunk)"
   ]
  },
  {
   "cell_type": "code",
   "execution_count": null,
   "id": "97c1aa50-b4a9-4188-bed6-3fa811c660c3",
   "metadata": {},
   "outputs": [],
   "source": []
  },
  {
   "cell_type": "markdown",
   "id": "05751bb5-7803-4dfb-be0c-9cfd41711171",
   "metadata": {
    "execution": {
     "iopub.execute_input": "2021-11-19T14:55:21.610280Z",
     "iopub.status.busy": "2021-11-19T14:55:21.609471Z",
     "iopub.status.idle": "2021-11-19T14:55:21.613285Z",
     "shell.execute_reply": "2021-11-19T14:55:21.612493Z"
    }
   },
   "source": [
    "### 2.b) Configuring *CMake* "
   ]
  },
  {
   "cell_type": "code",
   "execution_count": null,
   "id": "1d900da0-7534-4648-89c1-db6828a15450",
   "metadata": {},
   "outputs": [],
   "source": [
    "%%writefile CMakeListsFromPynb.txt \n",
    "## \n",
    "cmake_minimum_required(VERSION 3.19.3)\n",
    "project(text CXX)\n",
    "set(CMAKE_CXX_STANDARD 11)\n",
    "set(CMAKE_CXX_STANDARD_REQUERIRED ON)\n",
    "\n",
    "## \n",
    "include_directories(./)\n",
    "add_library(LibraryName SHARED simpleExample.cpp)\n",
    "\n",
    "#add_executable(tobetested y.cxx)\n",
    "#target_link_libraries(tobetested fileName)\n",
    "\n",
    "#include_directories(/Users/poderozita/anaconda3/envs/jmake2021/lib/python3.7/site-packages/numpy/core/include)\n",
    "\n",
    "## Wrapper.Python\n",
    "find_package(Python3 COMPONENTS Interpreter Development REQUIRED)\n",
    "include_directories(${Python3_INCLUDE_DIRS})\n",
    "\n",
    "## Wrapper.Python\n",
    "find_package(SWIG REQUIRED)\n",
    "include(${SWIG_USE_FILE})\n",
    "#include (UseSWIG)\n",
    "\n",
    "set_property(SOURCE swigConfigurationFile.i PROPERTY CPLUSPLUS ON)\n",
    "swig_add_library(SWIG_fileName LANGUAGE python SOURCES swigConfigurationFile.i)\n",
    "swig_link_libraries(SWIG_fileName LibraryName ${Python3_LIBRARIES})"
   ]
  },
  {
   "cell_type": "code",
   "execution_count": null,
   "id": "f629fa4e-58f9-4a18-854d-96674cc52668",
   "metadata": {},
   "outputs": [],
   "source": []
  },
  {
   "cell_type": "markdown",
   "id": "78102c88-d5da-42c4-96ad-1df2abfcfb1e",
   "metadata": {
    "execution": {
     "iopub.execute_input": "2021-11-19T14:55:21.629231Z",
     "iopub.status.busy": "2021-11-19T14:55:21.627839Z",
     "iopub.status.idle": "2021-11-19T14:55:21.632189Z",
     "shell.execute_reply": "2021-11-19T14:55:21.632900Z"
    }
   },
   "source": [
    "### Compiling"
   ]
  },
  {
   "cell_type": "code",
   "execution_count": null,
   "id": "5527816e-e823-45af-9ba4-7401da5dcf29",
   "metadata": {},
   "outputs": [],
   "source": [
    "%%writefile RUNNER.py   \n",
    "import os \n",
    "import numpy \n",
    "#print( numpy.get_include() ) \n",
    "\n",
    "os.environ['NP_INCLUDE_PATH'] = numpy.get_include()\n",
    "\n",
    "os.system(\"rm -rf CMakeCache.txt CMakeLists.txt CMakeFiles cmake_install.cmake Make libLibraryName.*\")  \n",
    "os.system(\"cp CMakeListsFromPynb.txt CMakeLists.txt\") \n",
    "os.system(\"cmake . -DCMAKE_CXX_COMPILER=g++ -DCMAKE_CXX_FLAGS=-I$NP_INCLUDE_PATH\")  \n",
    "os.system(\"make -B\")  "
   ]
  },
  {
   "cell_type": "code",
   "execution_count": null,
   "id": "75ba0dbd-13b8-4949-a5a0-cd3ec99bc331",
   "metadata": {},
   "outputs": [],
   "source": [
    "%%bash \n",
    "python RUNNER.py"
   ]
  },
  {
   "cell_type": "code",
   "execution_count": null,
   "id": "bf3b84b1-a142-4de3-a175-ebf2eca8204e",
   "metadata": {},
   "outputs": [],
   "source": []
  },
  {
   "cell_type": "markdown",
   "id": "acf1cfbb-0579-476e-b628-981111395f5f",
   "metadata": {
    "execution": {
     "iopub.execute_input": "2021-11-19T14:55:25.778848Z",
     "iopub.status.busy": "2021-11-19T14:55:25.777446Z",
     "iopub.status.idle": "2021-11-19T14:55:25.779423Z",
     "shell.execute_reply": "2021-11-19T14:55:25.778203Z"
    }
   },
   "source": [
    "### Testing "
   ]
  },
  {
   "cell_type": "code",
   "execution_count": null,
   "id": "0d542eaa-e13a-4e41-a21e-69b40ff4d08d",
   "metadata": {
    "tags": []
   },
   "outputs": [],
   "source": [
    "exec(open('test.py').read())"
   ]
  },
  {
   "cell_type": "code",
   "execution_count": null,
   "id": "68c1b595-c21f-41ad-8001-b80b07a97382",
   "metadata": {},
   "outputs": [],
   "source": []
  }
 ],
 "metadata": {
  "kernelspec": {
   "display_name": "Python 3 (ipykernel)",
   "language": "python",
   "name": "python3"
  },
  "language_info": {
   "codemirror_mode": {
    "name": "ipython",
    "version": 3
   },
   "file_extension": ".py",
   "mimetype": "text/x-python",
   "name": "python",
   "nbconvert_exporter": "python",
   "pygments_lexer": "ipython3",
   "version": "3.9.7"
  }
 },
 "nbformat": 4,
 "nbformat_minor": 5
}
