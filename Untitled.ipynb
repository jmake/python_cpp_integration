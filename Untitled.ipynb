{
 "cells": [
  {
   "cell_type": "code",
   "execution_count": null,
   "id": "513554e7",
   "metadata": {},
   "outputs": [],
   "source": []
  },
  {
   "cell_type": "code",
   "execution_count": 1,
   "id": "d766f708",
   "metadata": {
    "execution": {
     "iopub.execute_input": "2021-11-19T13:55:05.999266Z",
     "iopub.status.busy": "2021-11-19T13:55:05.998063Z",
     "iopub.status.idle": "2021-11-19T13:55:06.014992Z",
     "shell.execute_reply": "2021-11-19T13:55:06.015645Z"
    }
   },
   "outputs": [
    {
     "name": "stdout",
     "output_type": "stream",
     "text": [
      "PWD: /home/jovyan/work\n",
      "TODAY: 2021-11-19 13:55:06.008726\n"
     ]
    }
   ],
   "source": [
    "import os \n",
    "print(\"PWD:\",os.getcwd())\n",
    "\n",
    "import datetime\n",
    "print(\"TODAY:\", datetime.datetime.now())"
   ]
  },
  {
   "cell_type": "code",
   "execution_count": null,
   "id": "d7d1950a",
   "metadata": {},
   "outputs": [],
   "source": []
  }
 ],
 "metadata": {
  "kernelspec": {
   "display_name": "Python 3",
   "language": "python",
   "name": "python3"
  },
  "language_info": {
   "codemirror_mode": {
    "name": "ipython",
    "version": 3
   },
   "file_extension": ".py",
   "mimetype": "text/x-python",
   "name": "python",
   "nbconvert_exporter": "python",
   "pygments_lexer": "ipython3",
   "version": "3.9.7"
  }
 },
 "nbformat": 4,
 "nbformat_minor": 5
}
