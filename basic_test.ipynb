{
 "cells": [
  {
   "cell_type": "raw",
   "id": "4a1fe915",
   "metadata": {},
   "source": []
  },
  {
   "cell_type": "markdown",
   "id": "88b23ec1",
   "metadata": {},
   "source": [
    "# Python - C++ integration with GitHub Actions and Docker"
   ]
  },
  {
   "cell_type": "markdown",
   "id": "301681da",
   "metadata": {},
   "source": [
    "This notebook addresses how a <code>C++</code> class could be embedded on a <code>Python</code> script. \n",
    "\n",
    "Resulting code is executed on a CI/CD pipeline which makes use of  <code>GitHub Actions</code> and <code>Docker</code> hub. \n",
    "\n",
    "The test case shown here is a simple C++ class with a member function template which prints a given array of type T and size narray. The specific instantiation of the class is required so that the compiler can generate the appropriate Python interface. \n",
    "\n",
    "Python C++ interface is implemented through swig, a software tool that connects programs written in C and C++ with a variety of high-level programming languages.\n",
    "\n",
    "swig includes library modules for manipulating pointers and arrays (an array name is a constant pointer to the first element of the array).\n",
    "\n",
    "In the case discussed here, two libraries have been used to generate wrappers around C/C++ arrays, carrays.i and numpy.i. \n",
    "\n",
    "The first one is a basic interface file which defines typemaps that assist in wrapping ordinary pointers as arrays. On the other hand, the numpy.i library provides support for converting an C or C++ array to and from a NumPy array. Interfacing is applied via %array_class and %apply macros. \n",
    "\n",
    "%array_class(ArrayType,ArrayName) wraps a pointer of type ArrayType inside a class-based interface ArrayName. ArrayType is restricted to a simple type name like int or float. \n",
    "\n",
    "%apply directive implements the typemaps defined by numpy.i.  One of these typemaps is the signature (double* IN_ARRAY1, int DIM1). It suggest that the double* argument IN_ARRAY1 is an one-dimensional input array, and where the int argument DIM1 represents the size of that dimension. \n",
    "\n",
    "\n",
    "\n",
    "[1]  C arrays and pointers, SWIG-4.0, http://www.swig.org/doc.html \n",
    "\n",
    "[2] numpy.i: a SWIG Interface File for NumPy, https://numpy.org/doc/stable/reference/swig.interface-file.html \n"
   ]
  },
  {
   "cell_type": "raw",
   "id": "d2fe0343-5248-4978-95ee-5590d4ce21ba",
   "metadata": {},
   "source": []
  },
  {
   "cell_type": "markdown",
   "id": "20ef8b9b-ea7b-46af-8f68-aa578171a52b",
   "metadata": {
    "execution": {
     "iopub.execute_input": "2021-11-19T14:55:20.759792Z",
     "iopub.status.busy": "2021-11-19T14:55:20.759066Z",
     "iopub.status.idle": "2021-11-19T14:55:20.762282Z",
     "shell.execute_reply": "2021-11-19T14:55:20.762823Z"
    }
   },
   "source": [
    "### Useful information "
   ]
  },
  {
   "cell_type": "code",
   "execution_count": 2,
   "id": "d766f708",
   "metadata": {
    "execution": {
     "iopub.execute_input": "2021-11-19T16:22:01.833856Z",
     "iopub.status.busy": "2021-11-19T16:22:01.833330Z",
     "iopub.status.idle": "2021-11-19T16:22:01.841416Z",
     "shell.execute_reply": "2021-11-19T16:22:01.841753Z"
    },
    "tags": []
   },
   "outputs": [
    {
     "name": "stdout",
     "output_type": "stream",
     "text": [
      "PWD: /Users/poderozita/Downloads/home/jovyan/work\n",
      "TODAY: 2021-11-19 18:49:59.161271\n"
     ]
    }
   ],
   "source": [
    "import os \n",
    "print(\"PWD:\",os.getcwd())\n",
    "\n",
    "import datetime\n",
    "print(\"TODAY:\", datetime.datetime.now())"
   ]
  },
  {
   "cell_type": "code",
   "execution_count": 2,
   "id": "d7d1950a",
   "metadata": {
    "execution": {
     "iopub.execute_input": "2021-11-19T16:22:01.847702Z",
     "iopub.status.busy": "2021-11-19T16:22:01.847294Z",
     "iopub.status.idle": "2021-11-19T16:22:01.858735Z",
     "shell.execute_reply": "2021-11-19T16:22:01.859051Z"
    }
   },
   "outputs": [
    {
     "name": "stdout",
     "output_type": "stream",
     "text": [
      "cmake version 3.21.3\n",
      "\n",
      "CMake suite maintained and supported by Kitware (kitware.com/cmake).\n"
     ]
    }
   ],
   "source": [
    "%%bash \n",
    "cmake --version "
   ]
  },
  {
   "cell_type": "code",
   "execution_count": 3,
   "id": "f3f5a3f0-71b3-48a9-a95f-dedd9c6c08ab",
   "metadata": {
    "execution": {
     "iopub.execute_input": "2021-11-19T16:22:01.864649Z",
     "iopub.status.busy": "2021-11-19T16:22:01.864245Z",
     "iopub.status.idle": "2021-11-19T16:22:01.871419Z",
     "shell.execute_reply": "2021-11-19T16:22:01.871077Z"
    }
   },
   "outputs": [
    {
     "name": "stdout",
     "output_type": "stream",
     "text": [
      "g++ (GCC) 9.4.0\n",
      "Copyright (C) 2019 Free Software Foundation, Inc.\n",
      "This is free software; see the source for copying conditions.  There is NO\n",
      "warranty; not even for MERCHANTABILITY or FITNESS FOR A PARTICULAR PURPOSE.\n",
      "\n"
     ]
    }
   ],
   "source": [
    "%%bash \n",
    "g++ --version"
   ]
  },
  {
   "cell_type": "code",
   "execution_count": 4,
   "id": "aebafc43-a208-4c8b-8d9f-0e79741018e1",
   "metadata": {
    "execution": {
     "iopub.execute_input": "2021-11-19T16:22:01.876865Z",
     "iopub.status.busy": "2021-11-19T16:22:01.874363Z",
     "iopub.status.idle": "2021-11-19T16:22:01.884471Z",
     "shell.execute_reply": "2021-11-19T16:22:01.884782Z"
    }
   },
   "outputs": [
    {
     "name": "stdout",
     "output_type": "stream",
     "text": [
      "\n",
      "SWIG Version 4.0.2\n",
      "\n",
      "Compiled with /home/conda/feedstock_root/build_artifacts/swig_1614618251926/_build_env/bin/x86_64-conda-linux-gnu-c++ [x86_64-conda-linux-gnu]\n",
      "\n",
      "Configured options: +pcre\n",
      "\n",
      "Please see http://www.swig.org for reporting bugs and further information\n"
     ]
    }
   ],
   "source": [
    "%%bash \n",
    "swig -version"
   ]
  },
  {
   "cell_type": "code",
   "execution_count": 5,
   "id": "715e1029-ae0a-4127-9a97-3bb89f806c38",
   "metadata": {
    "execution": {
     "iopub.execute_input": "2021-11-19T16:22:01.889782Z",
     "iopub.status.busy": "2021-11-19T16:22:01.887924Z",
     "iopub.status.idle": "2021-11-19T16:22:01.896199Z",
     "shell.execute_reply": "2021-11-19T16:22:01.896510Z"
    }
   },
   "outputs": [
    {
     "name": "stdout",
     "output_type": "stream",
     "text": [
      "Python 3.9.7\n"
     ]
    }
   ],
   "source": [
    "%%bash \n",
    "python --version"
   ]
  },
  {
   "cell_type": "code",
   "execution_count": 6,
   "id": "ae9d324c-3d81-404b-ad25-64f838b0a88d",
   "metadata": {
    "execution": {
     "iopub.execute_input": "2021-11-19T16:22:01.900195Z",
     "iopub.status.busy": "2021-11-19T16:22:01.899378Z",
     "iopub.status.idle": "2021-11-19T16:22:01.972822Z",
     "shell.execute_reply": "2021-11-19T16:22:01.973167Z"
    }
   },
   "outputs": [
    {
     "data": {
      "text/plain": [
       "'/opt/conda/lib/python3.9/site-packages/numpy/core/include'"
      ]
     },
     "execution_count": 6,
     "metadata": {},
     "output_type": "execute_result"
    }
   ],
   "source": [
    "import numpy \n",
    "numpy.get_include()"
   ]
  },
  {
   "cell_type": "code",
   "execution_count": null,
   "id": "1ed0e912-0cc7-441b-9b98-18ee3468130b",
   "metadata": {},
   "outputs": [],
   "source": []
  },
  {
   "cell_type": "markdown",
   "id": "d9f67e2b-3a7c-4b46-b19b-03dc07f91e81",
   "metadata": {
    "execution": {
     "iopub.execute_input": "2021-11-19T14:55:21.217673Z",
     "iopub.status.busy": "2021-11-19T14:55:21.216868Z",
     "iopub.status.idle": "2021-11-19T14:55:21.220419Z",
     "shell.execute_reply": "2021-11-19T14:55:21.219770Z"
    }
   },
   "source": [
    "### Test case "
   ]
  },
  {
   "cell_type": "code",
   "execution_count": 7,
   "id": "8ff17bcb-11ab-46f4-abdb-9326e936c90d",
   "metadata": {
    "execution": {
     "iopub.execute_input": "2021-11-19T16:22:01.975331Z",
     "iopub.status.busy": "2021-11-19T16:22:01.974918Z",
     "iopub.status.idle": "2021-11-19T16:22:01.978606Z",
     "shell.execute_reply": "2021-11-19T16:22:01.979006Z"
    }
   },
   "outputs": [
    {
     "name": "stdout",
     "output_type": "stream",
     "text": [
      "Writing simpleExample.hpp\n"
     ]
    }
   ],
   "source": [
    "%%writefile simpleExample.hpp \n",
    "\n",
    "void say_hello();\n",
    "\n",
    "class SimpleExample \n",
    "{\n",
    "  public:\n",
    "    SimpleExample(){};\n",
    "   ~SimpleExample(){};\n",
    "        \n",
    "    void ShowArray(double* array, int narray); \n",
    "    void ShowArray(int* array, int narray); \n",
    "    \n",
    "  private:\n",
    "    template<class T>\n",
    "    void ShowArray(T* array, int narray);     \n",
    "};"
   ]
  },
  {
   "cell_type": "code",
   "execution_count": 8,
   "id": "9dbe3866-e599-4e0a-8cd5-0f1d50908cd4",
   "metadata": {
    "execution": {
     "iopub.execute_input": "2021-11-19T16:22:01.980925Z",
     "iopub.status.busy": "2021-11-19T16:22:01.980513Z",
     "iopub.status.idle": "2021-11-19T16:22:01.983752Z",
     "shell.execute_reply": "2021-11-19T16:22:01.984158Z"
    }
   },
   "outputs": [
    {
     "name": "stdout",
     "output_type": "stream",
     "text": [
      "Writing simpleExample.cpp\n"
     ]
    }
   ],
   "source": [
    "%%writefile simpleExample.cpp\n",
    "#include <iostream>\n",
    "#include \"simpleExample.hpp\"\n",
    "\n",
    "void say_hello()\n",
    "{\n",
    "    std::cout<<\"Hello from swig-example:\" << std::endl;\n",
    "}\n",
    "\n",
    "void \n",
    "SimpleExample::ShowArray(double* array, int narray)\n",
    "{\n",
    "    this->ShowArray<double>(array, narray);     \n",
    "}\n",
    "\n",
    "\n",
    "void \n",
    "SimpleExample::ShowArray(int* array, int narray)\n",
    "{\n",
    "    this->ShowArray<int>(array, narray); \n",
    "}\n",
    "\n",
    "\n",
    "template<class T>\n",
    "void \n",
    "SimpleExample::ShowArray(T* array, int narray)\n",
    "{\n",
    "    std::cout<<\" [ \"; \n",
    "    for(int i=0; i<narray; i++)\n",
    "    {\n",
    "        std::cout<< array[i] <<\" \"; \n",
    "    }\n",
    "    std::cout<<\"] \"<< std::endl; \n",
    "}"
   ]
  },
  {
   "cell_type": "code",
   "execution_count": null,
   "id": "83b72460-49d8-4ac9-8071-d4240226d774",
   "metadata": {},
   "outputs": [],
   "source": []
  },
  {
   "cell_type": "code",
   "execution_count": 9,
   "id": "4dfccf9f-3f1e-441a-b65f-1176542260ae",
   "metadata": {
    "execution": {
     "iopub.execute_input": "2021-11-19T16:22:01.986034Z",
     "iopub.status.busy": "2021-11-19T16:22:01.985633Z",
     "iopub.status.idle": "2021-11-19T16:22:01.988668Z",
     "shell.execute_reply": "2021-11-19T16:22:01.989055Z"
    }
   },
   "outputs": [
    {
     "name": "stdout",
     "output_type": "stream",
     "text": [
      "Writing test.py\n"
     ]
    }
   ],
   "source": [
    "%%writefile test.py\n",
    "import numpy as np\n",
    "import swig_example\n",
    "\n",
    "swig_example.say_hello()\n",
    "E = swig_example.SimpleExample()\n",
    "\n",
    "narray = 4\n",
    "array1 = np.arange(narray) + 1\n",
    "E.ShowArray(array1)\n",
    "\n",
    "array2 = swig_example.iArray(narray)\n",
    "for i in range(narray): array2[i] = i+1 \n",
    "E.ShowArray(array2,narray)"
   ]
  },
  {
   "cell_type": "code",
   "execution_count": null,
   "id": "5fe00735-f22c-40e3-a64b-a665ffd4e52f",
   "metadata": {},
   "outputs": [],
   "source": []
  },
  {
   "cell_type": "markdown",
   "id": "6eac55bd-47f9-44e0-b303-80c9a510c699",
   "metadata": {
    "execution": {
     "iopub.execute_input": "2021-11-19T14:55:21.248656Z",
     "iopub.status.busy": "2021-11-19T14:55:21.248025Z",
     "iopub.status.idle": "2021-11-19T14:55:21.250528Z",
     "shell.execute_reply": "2021-11-19T14:55:21.251137Z"
    }
   },
   "source": [
    "### Configuring *swig* "
   ]
  },
  {
   "cell_type": "code",
   "execution_count": 10,
   "id": "ce9de944-29aa-4428-899c-448962d458a5",
   "metadata": {
    "execution": {
     "iopub.execute_input": "2021-11-19T16:22:01.990963Z",
     "iopub.status.busy": "2021-11-19T16:22:01.990557Z",
     "iopub.status.idle": "2021-11-19T16:22:01.993613Z",
     "shell.execute_reply": "2021-11-19T16:22:01.994001Z"
    }
   },
   "outputs": [
    {
     "name": "stdout",
     "output_type": "stream",
     "text": [
      "Writing swigConfigurationFile.i\n"
     ]
    }
   ],
   "source": [
    "%%writefile swigConfigurationFile.i  \n",
    "## \n",
    "%module swig_example\n",
    "\n",
    "%{\n",
    "    #define SWIG_FILE_WITH_INIT\n",
    "    #include \"simpleExample.hpp\"\n",
    "%}\n",
    "\n",
    "## ShowArray(int* array, int narray)\n",
    "%include \"carrays.i\"\n",
    "%array_class(int, iArray)\n",
    "\n",
    "## \n",
    "%include \"numpy.i\"\n",
    "%init \n",
    "%{\n",
    "    import_array();\n",
    "%}\n",
    "\n",
    "## ShowArray(double* array, int narray)\n",
    "%apply (double* IN_ARRAY1, int DIM1) {(double* array, int narray)}\n",
    "\n",
    "%include \"simpleExample.hpp\""
   ]
  },
  {
   "cell_type": "markdown",
   "id": "26b6eabd-de38-4d5c-8382-24fa0fa5e91e",
   "metadata": {
    "execution": {
     "iopub.execute_input": "2021-11-19T14:55:21.266025Z",
     "iopub.status.busy": "2021-11-19T14:55:21.265135Z",
     "iopub.status.idle": "2021-11-19T14:55:21.268657Z",
     "shell.execute_reply": "2021-11-19T14:55:21.269362Z"
    }
   },
   "source": [
    "### If *numpy.i* is missing, activate this cell "
   ]
  },
  {
   "cell_type": "code",
   "execution_count": 11,
   "id": "9a64936b-4734-4a25-9650-74593b94529b",
   "metadata": {
    "execution": {
     "iopub.execute_input": "2021-11-19T16:22:01.995895Z",
     "iopub.status.busy": "2021-11-19T16:22:01.995464Z",
     "iopub.status.idle": "2021-11-19T16:22:02.152484Z",
     "shell.execute_reply": "2021-11-19T16:22:02.152887Z"
    }
   },
   "outputs": [],
   "source": [
    "import re\n",
    "import requests\n",
    "import numpy\n",
    "\n",
    "np_version = re.compile(r'(?P<MAJOR>[0-9]+)\\.'\n",
    "                        '(?P<MINOR>[0-9]+)') \\\n",
    "                        .search(numpy.__version__)\n",
    "np_version_string = np_version.group()\n",
    "np_version_info = {key: int(value)\n",
    "                   for key, value in np_version.groupdict().items()}\n",
    "\n",
    "np_file_name = 'numpy.i'\n",
    "np_file_url = 'https://raw.githubusercontent.com/numpy/numpy/maintenance/' + \\\n",
    "              np_version_string + '.x/tools/swig/' + np_file_name\n",
    "if(np_version_info['MAJOR'] == 1 and np_version_info['MINOR'] < 9):\n",
    "    np_file_url = np_file_url.replace('tools', 'doc')\n",
    "\n",
    "chunk_size = 8196\n",
    "with open(np_file_name, 'wb') as file:\n",
    "    for chunk in requests.get(np_file_url,\n",
    "                              stream=True).iter_content(chunk_size):\n",
    "        file.write(chunk)"
   ]
  },
  {
   "cell_type": "raw",
   "id": "49c250b4",
   "metadata": {},
   "source": []
  },
  {
   "cell_type": "markdown",
   "id": "05751bb5-7803-4dfb-be0c-9cfd41711171",
   "metadata": {
    "execution": {
     "iopub.execute_input": "2021-11-19T14:55:21.610280Z",
     "iopub.status.busy": "2021-11-19T14:55:21.609471Z",
     "iopub.status.idle": "2021-11-19T14:55:21.613285Z",
     "shell.execute_reply": "2021-11-19T14:55:21.612493Z"
    }
   },
   "source": [
    "### Configuring *CMake* "
   ]
  },
  {
   "cell_type": "code",
   "execution_count": 12,
   "id": "1d900da0-7534-4648-89c1-db6828a15450",
   "metadata": {
    "execution": {
     "iopub.execute_input": "2021-11-19T16:22:02.157915Z",
     "iopub.status.busy": "2021-11-19T16:22:02.156897Z",
     "iopub.status.idle": "2021-11-19T16:22:02.161061Z",
     "shell.execute_reply": "2021-11-19T16:22:02.160682Z"
    }
   },
   "outputs": [
    {
     "name": "stdout",
     "output_type": "stream",
     "text": [
      "Writing CMakeListsFromPynb.txt\n"
     ]
    }
   ],
   "source": [
    "%%writefile CMakeListsFromPynb.txt \n",
    "## \n",
    "cmake_minimum_required(VERSION 3.19.3)\n",
    "project(text CXX)\n",
    "set(CMAKE_CXX_STANDARD 11)\n",
    "set(CMAKE_CXX_STANDARD_REQUERIRED ON)\n",
    "\n",
    "## \n",
    "include_directories(./)\n",
    "add_library(LibraryName SHARED simpleExample.cpp)\n",
    "\n",
    "#add_executable(tobetested y.cxx)\n",
    "#target_link_libraries(tobetested fileName)\n",
    "\n",
    "#include_directories(/Users/poderozita/anaconda3/envs/jmake2021/lib/python3.7/site-packages/numpy/core/include)\n",
    "\n",
    "## Wrapper.Python\n",
    "find_package(Python3 COMPONENTS Interpreter Development REQUIRED)\n",
    "include_directories(${Python3_INCLUDE_DIRS})\n",
    "\n",
    "## Wrapper.Python\n",
    "find_package(SWIG REQUIRED)\n",
    "include(${SWIG_USE_FILE})\n",
    "#include (UseSWIG)\n",
    "\n",
    "set_property(SOURCE swigConfigurationFile.i PROPERTY CPLUSPLUS ON)\n",
    "swig_add_library(SWIG_fileName LANGUAGE python SOURCES swigConfigurationFile.i)\n",
    "swig_link_libraries(SWIG_fileName LibraryName ${Python3_LIBRARIES})"
   ]
  },
  {
   "cell_type": "raw",
   "id": "226bbaae",
   "metadata": {},
   "source": []
  },
  {
   "cell_type": "markdown",
   "id": "78102c88-d5da-42c4-96ad-1df2abfcfb1e",
   "metadata": {
    "execution": {
     "iopub.execute_input": "2021-11-19T14:55:21.629231Z",
     "iopub.status.busy": "2021-11-19T14:55:21.627839Z",
     "iopub.status.idle": "2021-11-19T14:55:21.632189Z",
     "shell.execute_reply": "2021-11-19T14:55:21.632900Z"
    }
   },
   "source": [
    "### Compiling"
   ]
  },
  {
   "cell_type": "code",
   "execution_count": 13,
   "id": "5527816e-e823-45af-9ba4-7401da5dcf29",
   "metadata": {
    "execution": {
     "iopub.execute_input": "2021-11-19T16:22:02.164830Z",
     "iopub.status.busy": "2021-11-19T16:22:02.164414Z",
     "iopub.status.idle": "2021-11-19T16:22:02.168489Z",
     "shell.execute_reply": "2021-11-19T16:22:02.168150Z"
    }
   },
   "outputs": [
    {
     "name": "stdout",
     "output_type": "stream",
     "text": [
      "Writing RUNNER.py\n"
     ]
    }
   ],
   "source": [
    "%%writefile RUNNER.py   \n",
    "import os \n",
    "import numpy \n",
    "#print( numpy.get_include() ) \n",
    "\n",
    "os.environ['NP_INCLUDE_PATH'] = numpy.get_include()\n",
    "\n",
    "os.system(\"rm -rf CMakeCache.txt CMakeLists.txt CMakeFiles cmake_install.cmake Make libLibraryName.*\")  \n",
    "os.system(\"cp CMakeListsFromPynb.txt CMakeLists.txt\") \n",
    "os.system(\"cmake . -DCMAKE_CXX_COMPILER=g++ -DCMAKE_CXX_FLAGS=-I$NP_INCLUDE_PATH\")  \n",
    "os.system(\"make -B\")  "
   ]
  },
  {
   "cell_type": "code",
   "execution_count": 14,
   "id": "75ba0dbd-13b8-4949-a5a0-cd3ec99bc331",
   "metadata": {
    "execution": {
     "iopub.execute_input": "2021-11-19T16:22:02.174405Z",
     "iopub.status.busy": "2021-11-19T16:22:02.170966Z",
     "iopub.status.idle": "2021-11-19T16:22:04.290939Z",
     "shell.execute_reply": "2021-11-19T16:22:04.291272Z"
    }
   },
   "outputs": [
    {
     "name": "stdout",
     "output_type": "stream",
     "text": [
      "-- The CXX compiler identification is GNU 9.4.0\n",
      "-- Detecting CXX compiler ABI info\n",
      "-- Detecting CXX compiler ABI info - done\n",
      "-- Check for working CXX compiler: /opt/conda/bin/g++ - skipped\n",
      "-- Detecting CXX compile features\n",
      "-- Detecting CXX compile features - done\n",
      "-- Found Python3: /opt/conda/bin/python3.9 (found version \"3.9.7\") found components: Interpreter Development Development.Module Development.Embed \n",
      "-- Found SWIG: /opt/conda/bin/swig (found version \"4.0.2\")  \n",
      "-- Configuring done\n",
      "-- Generating done\n",
      "-- Build files have been written to: /home/jovyan/work\n",
      "[ 20%] Building CXX object CMakeFiles/LibraryName.dir/simpleExample.cpp.o\n",
      "[ 40%] Linking CXX shared library libLibraryName.so\n",
      "[ 40%] Built target LibraryName\n",
      "Scanning dependencies of target SWIG_fileName_swig_compilation\n",
      "[ 60%] Swig compile swigConfigurationFile.i for python\n",
      "[ 60%] Built target SWIG_fileName_swig_compilation\n",
      "[ 80%] Building CXX object CMakeFiles/SWIG_fileName.dir/CMakeFiles/SWIG_fileName.dir/swigConfigurationFilePYTHON_wrap.cxx.o\n",
      "[100%] Linking CXX shared module _SWIG_fileName.so\n",
      "[100%] Built target SWIG_fileName\n"
     ]
    }
   ],
   "source": [
    "%%bash \n",
    "python RUNNER.py"
   ]
  },
  {
   "cell_type": "raw",
   "id": "ff7619bd",
   "metadata": {},
   "source": []
  },
  {
   "cell_type": "markdown",
   "id": "acf1cfbb-0579-476e-b628-981111395f5f",
   "metadata": {
    "execution": {
     "iopub.execute_input": "2021-11-19T14:55:25.778848Z",
     "iopub.status.busy": "2021-11-19T14:55:25.777446Z",
     "iopub.status.idle": "2021-11-19T14:55:25.779423Z",
     "shell.execute_reply": "2021-11-19T14:55:25.778203Z"
    }
   },
   "source": [
    "### Testing "
   ]
  },
  {
   "cell_type": "code",
   "execution_count": 15,
   "id": "0d542eaa-e13a-4e41-a21e-69b40ff4d08d",
   "metadata": {
    "execution": {
     "iopub.execute_input": "2021-11-19T16:22:04.295648Z",
     "iopub.status.busy": "2021-11-19T16:22:04.294848Z",
     "iopub.status.idle": "2021-11-19T16:22:04.303062Z",
     "shell.execute_reply": "2021-11-19T16:22:04.302441Z"
    },
    "tags": []
   },
   "outputs": [
    {
     "name": "stdout",
     "output_type": "stream",
     "text": [
      "Hello from swig-example:\n",
      " [ 1 2 3 4 ] \n",
      " [ 1 2 3 4 ] \n"
     ]
    }
   ],
   "source": [
    "exec(open('test.py').read())"
   ]
  },
  {
   "cell_type": "raw",
   "id": "b3b681f9",
   "metadata": {},
   "source": []
  },
  {
   "cell_type": "markdown",
   "id": "0800466d",
   "metadata": {},
   "source": [
    "## Appendix"
   ]
  },
  {
   "cell_type": "markdown",
   "id": "600f2bd8",
   "metadata": {},
   "source": [
    "### A. Github Actions"
   ]
  },
  {
   "cell_type": "markdown",
   "id": "35cd13ca",
   "metadata": {},
   "source": [
    "Next files are automatically executed once they are located on *.github/workflows* "
   ]
  },
  {
   "cell_type": "markdown",
   "id": "a6e2dc91",
   "metadata": {},
   "source": [
    "#### A.1.  Building a Docker Image "
   ]
  },
  {
   "cell_type": "markdown",
   "id": "62bdc341",
   "metadata": {},
   "source": [
    "%%writefile buildImage.yml  \n",
    "name: Building Docker Image\n",
    "\n",
    "on:\n",
    "  workflow_dispatch:\n",
    "\n",
    "jobs:\n",
    "\n",
    "  buildimage:\n",
    "    runs-on: ubuntu-latest\n",
    "\n",
    "    steps:\n",
    "    - name: Building image ... \n",
    "      run: |\n",
    "        echo \"${{secrets.DOCKER_HUB_TOKEN}}\" | docker login -u \"${{secrets.DOCKER_HUB_USERNAME}}\" --password-stdin docker.io\n",
    "        \n",
    "        docker build . --file dockerfile.build --tag docker.io/${{secrets.DOCKER_HUB_USERNAME}}/${{secrets.DOCKER_HUB_REPOSITORY}}:$GITHUB_SHA\n",
    "            \n",
    "        docker push docker.io/${{secrets.DOCKER_HUB_USERNAME}}/${{secrets.DOCKER_HUB_REPOSITORY}}:$GITHUB_SHA"
   ]
  },
  {
   "cell_type": "markdown",
   "id": "9b706c0f",
   "metadata": {},
   "source": [
    "#### A.2.  Executing a Docker Image "
   ]
  },
  {
   "cell_type": "markdown",
   "id": "779b5a13",
   "metadata": {},
   "source": [
    "%%writefile executeImage.yml  \n",
    "name: Executing Docker Image\n",
    "\n",
    "on: [push, workflow_dispatch]\n",
    "\n",
    "jobs:\n",
    "  executeimage:\n",
    "    runs-on: ubuntu-latest\n",
    "\n",
    "    steps:\n",
    "    - name: OS\n",
    "      run: uname -a\n",
    "\n",
    "    - name: Downloading repository ...\n",
    "      uses: actions/checkout@v2\n",
    "\n",
    "    - name: Login to Docker hub ... \n",
    "      uses: actions-hub/docker/login@master\n",
    "      env:\n",
    "        DOCKER_USERNAME: ${{secrets.DOCKER_HUB_USERNAME}}\n",
    "        DOCKER_PASSWORD: ${{secrets.DOCKER_HUB_TOKEN}}\n",
    "            \n",
    "    - name: Build\n",
    "      if: success()\n",
    "      run: |\n",
    "        echo \"[DOCKER] BUILDING ...\"\n",
    "        IMAGE_NAME=gh01\n",
    "        docker build -f Dockerfile -t $IMAGE_NAME:1.0 .\n",
    "        docker images\n",
    "\n",
    "        echo \"[DOCKER] CREATING ...\" \n",
    "        CONTAINER_ID=$(docker create ${IMAGE_NAME}:1.0)\n",
    "\n",
    "        echo \"[DOCKER] EXECUTING ...\"  \n",
    "        docker cp ${CONTAINER_ID}:/home/jovyan/work/from_docker.ipynb ./\n",
    "        docker rm -v $CONTAINER_ID\n",
    "        \n",
    "        echo \"[DOCKER] DONE!\" \n",
    "\n",
    "    - name: Saving artifacts ...\n",
    "      uses: actions/upload-artifact@v2\n",
    "      with:\n",
    "        name: FromContainer\n",
    "        if-no-files-found: error\n",
    "        path: ./from_docker.ipynb\n",
    "        retention-days: 1\n",
    "        "
   ]
  },
  {
   "cell_type": "markdown",
   "id": "8dce607a",
   "metadata": {},
   "source": [
    "Access tokens *DOCKER_HUB_TOKEN*, *DOCKER_HUB_REPOSITORY* and *DOCKER_HUB_USERNAME* have to be stored as sensitive information"
   ]
  },
  {
   "cell_type": "markdown",
   "id": "0947ab44",
   "metadata": {},
   "source": [
    "### B. Launching interactive container processes"
   ]
  },
  {
   "cell_type": "markdown",
   "id": "8bf2fa93",
   "metadata": {},
   "source": [
    "%%writefile docker.running_container \n",
    "\n",
    "IMAGE_NAME=\n",
    "IMAGE_TAG=\n",
    "CONTAINER_NAME=CONTAINER_${IMAGE_NAME}_${IMAGE_TAG}\n",
    "CONTAINER_VOLUME=/SHARED\n",
    "LOCAL_VOLUME=$(pwd)\n",
    "\n",
    "echo \"LOCAL_VOLUME:\" $LOCAL_VOLUME\n",
    "docker run --name $CONTAINER_NAME -v$LOCAL_VOLUME:$CONTAINER_VOLUME  --rm -it $IMAGE_NAME:$IMAGE_TAG /bin/bash"
   ]
  },
  {
   "cell_type": "markdown",
   "id": "9d150b2d",
   "metadata": {},
   "source": [
    "Now, execute "
   ]
  },
  {
   "cell_type": "markdown",
   "id": "2d0792e8",
   "metadata": {},
   "source": [
    "bash docker.running_container"
   ]
  },
  {
   "cell_type": "markdown",
   "id": "33ddd793",
   "metadata": {},
   "source": [
    "or, additionally"
   ]
  },
  {
   "cell_type": "markdown",
   "id": "82817cc7",
   "metadata": {},
   "source": [
    "docker exec -it $CONTAINER_NAME /bin/bash\n",
    "\n",
    "or\n",
    "\n",
    "docker exec -e GRANT_SUDO=yes --user root -it $CONTAINER_NAME /bin/bash "
   ]
  },
  {
   "cell_type": "markdown",
   "id": "df95b53f",
   "metadata": {},
   "source": [
    "### C. Alternative to containerization"
   ]
  },
  {
   "cell_type": "markdown",
   "id": "37b4675e",
   "metadata": {},
   "source": [
    "%%bash \n",
    "conda update -n base conda\n",
    "conda install -c anaconda cmake swig numpy "
   ]
  },
  {
   "cell_type": "raw",
   "id": "97ee7529",
   "metadata": {},
   "source": []
  }
 ],
 "metadata": {
  "kernelspec": {
   "display_name": "Python 3",
   "language": "python",
   "name": "python3"
  },
  "language_info": {
   "codemirror_mode": {
    "name": "ipython",
    "version": 3
   },
   "file_extension": ".py",
   "mimetype": "text/x-python",
   "name": "python",
   "nbconvert_exporter": "python",
   "pygments_lexer": "ipython3",
   "version": "3.7.9"
  }
 },
 "nbformat": 4,
 "nbformat_minor": 5
}
